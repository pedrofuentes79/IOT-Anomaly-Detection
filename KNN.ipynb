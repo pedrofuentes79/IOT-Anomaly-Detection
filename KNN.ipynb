{
 "cells": [
  {
   "cell_type": "code",
   "execution_count": 1,
   "metadata": {},
   "outputs": [],
   "source": [
    "import pandas as pd\n",
    "import numpy as np\n",
    "import matplotlib.pyplot as plt"
   ]
  },
  {
   "cell_type": "code",
   "execution_count": 2,
   "metadata": {},
   "outputs": [],
   "source": [
    "df = pd.read_csv(\"data/preprocessed_CTU-IoT-Malware-Capture-21-1.csv\")"
   ]
  },
  {
   "cell_type": "code",
   "execution_count": 3,
   "metadata": {},
   "outputs": [
    {
     "data": {
      "text/html": [
       "<div>\n",
       "<style scoped>\n",
       "    .dataframe tbody tr th:only-of-type {\n",
       "        vertical-align: middle;\n",
       "    }\n",
       "\n",
       "    .dataframe tbody tr th {\n",
       "        vertical-align: top;\n",
       "    }\n",
       "\n",
       "    .dataframe thead th {\n",
       "        text-align: right;\n",
       "    }\n",
       "</style>\n",
       "<table border=\"1\" class=\"dataframe\">\n",
       "  <thead>\n",
       "    <tr style=\"text-align: right;\">\n",
       "      <th></th>\n",
       "      <th>id.resp_h</th>\n",
       "      <th>proto</th>\n",
       "      <th>service</th>\n",
       "      <th>duration</th>\n",
       "      <th>orig_bytes</th>\n",
       "      <th>resp_bytes</th>\n",
       "      <th>conn_state</th>\n",
       "      <th>missed_bytes</th>\n",
       "      <th>history</th>\n",
       "      <th>orig_pkts</th>\n",
       "      <th>orig_ip_bytes</th>\n",
       "      <th>resp_pkts</th>\n",
       "      <th>resp_ip_bytes</th>\n",
       "      <th>label</th>\n",
       "    </tr>\n",
       "  </thead>\n",
       "  <tbody>\n",
       "    <tr>\n",
       "      <th>0</th>\n",
       "      <td>8</td>\n",
       "      <td>2</td>\n",
       "      <td>1</td>\n",
       "      <td>-0.031471</td>\n",
       "      <td>-0.120580</td>\n",
       "      <td>-0.091638</td>\n",
       "      <td>2</td>\n",
       "      <td>-0.028072</td>\n",
       "      <td>1</td>\n",
       "      <td>-0.031437</td>\n",
       "      <td>-0.033291</td>\n",
       "      <td>-0.032746</td>\n",
       "      <td>-0.035204</td>\n",
       "      <td>0</td>\n",
       "    </tr>\n",
       "    <tr>\n",
       "      <th>1</th>\n",
       "      <td>8</td>\n",
       "      <td>2</td>\n",
       "      <td>1</td>\n",
       "      <td>-0.031469</td>\n",
       "      <td>0.083804</td>\n",
       "      <td>0.114779</td>\n",
       "      <td>5</td>\n",
       "      <td>-0.028072</td>\n",
       "      <td>2</td>\n",
       "      <td>-0.025729</td>\n",
       "      <td>-0.022584</td>\n",
       "      <td>-0.021844</td>\n",
       "      <td>-0.016371</td>\n",
       "      <td>0</td>\n",
       "    </tr>\n",
       "    <tr>\n",
       "      <th>2</th>\n",
       "      <td>8</td>\n",
       "      <td>2</td>\n",
       "      <td>1</td>\n",
       "      <td>-0.025755</td>\n",
       "      <td>0.056852</td>\n",
       "      <td>-0.089369</td>\n",
       "      <td>2</td>\n",
       "      <td>-0.028072</td>\n",
       "      <td>1</td>\n",
       "      <td>-0.025729</td>\n",
       "      <td>-0.024210</td>\n",
       "      <td>-0.032746</td>\n",
       "      <td>-0.035204</td>\n",
       "      <td>0</td>\n",
       "    </tr>\n",
       "    <tr>\n",
       "      <th>3</th>\n",
       "      <td>8</td>\n",
       "      <td>2</td>\n",
       "      <td>1</td>\n",
       "      <td>-0.031469</td>\n",
       "      <td>0.083804</td>\n",
       "      <td>0.114779</td>\n",
       "      <td>5</td>\n",
       "      <td>-0.028072</td>\n",
       "      <td>2</td>\n",
       "      <td>-0.025729</td>\n",
       "      <td>-0.022584</td>\n",
       "      <td>-0.021844</td>\n",
       "      <td>-0.016371</td>\n",
       "      <td>0</td>\n",
       "    </tr>\n",
       "    <tr>\n",
       "      <th>4</th>\n",
       "      <td>8</td>\n",
       "      <td>2</td>\n",
       "      <td>1</td>\n",
       "      <td>-0.025717</td>\n",
       "      <td>0.144445</td>\n",
       "      <td>0.232731</td>\n",
       "      <td>5</td>\n",
       "      <td>-0.028072</td>\n",
       "      <td>2</td>\n",
       "      <td>-0.020022</td>\n",
       "      <td>-0.015129</td>\n",
       "      <td>-0.021844</td>\n",
       "      <td>-0.009663</td>\n",
       "      <td>0</td>\n",
       "    </tr>\n",
       "  </tbody>\n",
       "</table>\n",
       "</div>"
      ],
      "text/plain": [
       "   id.resp_h  proto  service  duration  orig_bytes  resp_bytes  conn_state  \\\n",
       "0          8      2        1 -0.031471   -0.120580   -0.091638           2   \n",
       "1          8      2        1 -0.031469    0.083804    0.114779           5   \n",
       "2          8      2        1 -0.025755    0.056852   -0.089369           2   \n",
       "3          8      2        1 -0.031469    0.083804    0.114779           5   \n",
       "4          8      2        1 -0.025717    0.144445    0.232731           5   \n",
       "\n",
       "   missed_bytes  history  orig_pkts  orig_ip_bytes  resp_pkts  resp_ip_bytes  \\\n",
       "0     -0.028072        1  -0.031437      -0.033291  -0.032746      -0.035204   \n",
       "1     -0.028072        2  -0.025729      -0.022584  -0.021844      -0.016371   \n",
       "2     -0.028072        1  -0.025729      -0.024210  -0.032746      -0.035204   \n",
       "3     -0.028072        2  -0.025729      -0.022584  -0.021844      -0.016371   \n",
       "4     -0.028072        2  -0.020022      -0.015129  -0.021844      -0.009663   \n",
       "\n",
       "   label  \n",
       "0      0  \n",
       "1      0  \n",
       "2      0  \n",
       "3      0  \n",
       "4      0  "
      ]
     },
     "execution_count": 3,
     "metadata": {},
     "output_type": "execute_result"
    }
   ],
   "source": [
    "df.head()"
   ]
  },
  {
   "cell_type": "markdown",
   "metadata": {},
   "source": [
    "# Train Test Split"
   ]
  },
  {
   "cell_type": "code",
   "execution_count": 4,
   "metadata": {},
   "outputs": [],
   "source": [
    "# get a train test split which has most malware examples in the test set\n",
    "\n",
    "malware = df[df['label'] == 1]\n",
    "malware_test = malware.sample(frac=0.8, random_state=42)\n",
    "malware_train = malware.drop(malware_test.index)\n",
    "\n",
    "benign = df[df['label'] == 0]\n",
    "\n",
    "benign_test = benign.sample(frac=0.8, random_state=42)\n",
    "benign_train = benign.drop(benign_test.index)\n",
    "\n",
    "train = pd.concat([malware_train, benign_train])\n",
    "test = pd.concat([malware_test, benign_test])\n",
    "\n",
    "X_train = train.drop(['label'], axis=1)\n",
    "y_train = train['label']\n",
    "\n",
    "X_test = test.drop(['label'], axis=1)\n",
    "y_test = test['label']\n",
    "\n",
    "# Shuffle the data\n",
    "from sklearn.utils import shuffle\n",
    "X_train, y_train = shuffle(X_train, y_train, random_state=42)\n"
   ]
  },
  {
   "cell_type": "markdown",
   "metadata": {},
   "source": [
    "# K-Nearest Neighbors (KNN)"
   ]
  },
  {
   "cell_type": "markdown",
   "metadata": {},
   "source": [
    "### Simple explanation of how does this model work\n",
    "- Choose hyperparameters for the model (number of neighbors to look for, distance metric, etc.)\n",
    "- For each point, compute the distance between the point and <b>all</b> other points\n",
    "    - This distance (be it Euclidean, Manhattan, etc.) is the distance between the points in the feature space, independently of the amount of features (dimensions) it can be calculated.\n",
    "- Pick the K points which are closer to the unclassified example.\n",
    "- Assign the label of the majority of the K points to the new point. \n",
    "    - So, for k=5, if 3 of the closest points are labeled as \"red\" and 2 are labeled as \"blue\", the new point will be labeled as \"red\".\n",
    "- Repeat for all unclassified points in the dataset"
   ]
  },
  {
   "cell_type": "markdown",
   "metadata": {},
   "source": [
    "<img src=\"https://images.datacamp.com/image/upload/v1686762721/image2_a2876c62d1.png\" alt=\"knn\" width=\"400\"/>"
   ]
  },
  {
   "cell_type": "markdown",
   "metadata": {},
   "source": [
    "In this notebook I will instantiate various KNN classifiers with different values for the amount of neighbors. Will also use the weights parameter set to distance, to increase the influence of closer neighbors."
   ]
  },
  {
   "cell_type": "code",
   "execution_count": 5,
   "metadata": {},
   "outputs": [
    {
     "name": "stderr",
     "output_type": "stream",
     "text": [
      "/home/pedranji/.local/lib/python3.10/site-packages/sklearn/model_selection/_split.py:737: UserWarning: The least populated class in y has only 3 members, which is less than n_splits=5.\n",
      "  warnings.warn(\n"
     ]
    },
    {
     "name": "stdout",
     "output_type": "stream",
     "text": [
      "Best parameters:  {'n_neighbors': 1}\n",
      "Best cross-validation score: 1.00\n",
      "Best accuracy on test set: 1.00\n"
     ]
    }
   ],
   "source": [
    "from sklearn.model_selection import GridSearchCV\n",
    "from sklearn.neighbors import KNeighborsClassifier\n",
    "\n",
    "knn = KNeighborsClassifier()\n",
    "\n",
    "grid = GridSearchCV(knn, param_grid={'n_neighbors': [1,2,3,4,5]}, cv=5) \n",
    "grid_search = grid.fit(X_train, y_train)\n",
    "print(\"Best parameters: \", grid_search.best_params_)\n",
    "print(\"Best cross-validation score: {:.2f}\".format(grid_search.best_score_))\n",
    "print(\"Best accuracy on test set: {:.2f}\".format(grid_search.score(X_test, y_test)))"
   ]
  },
  {
   "cell_type": "code",
   "execution_count": 9,
   "metadata": {},
   "outputs": [],
   "source": [
    "knn_1 = KNeighborsClassifier(n_neighbors=1, weights=\"distance\", p=1)\n",
    "knn_2 = KNeighborsClassifier(n_neighbors=2, weights=\"distance\", p=1)\n",
    "knn_3 = KNeighborsClassifier(n_neighbors=3, weights=\"distance\", p=1)\n",
    "knn_5 = KNeighborsClassifier(n_neighbors=5, weights=\"distance\", p=1)\n",
    "\n",
    "y_pred_1 = knn_1.fit(X_train, y_train).predict(X_test)\n",
    "y_pred_2 = knn_2.fit(X_train, y_train).predict(X_test)\n",
    "y_pred_3 = knn_3.fit(X_train, y_train).predict(X_test)\n",
    "y_pred_5 = knn_5.fit(X_train, y_train).predict(X_test)"
   ]
  },
  {
   "cell_type": "code",
   "execution_count": 10,
   "metadata": {},
   "outputs": [],
   "source": [
    "# get confusion matrix for each model\n",
    "from sklearn.metrics import confusion_matrix\n",
    "\n",
    "cm_1 = confusion_matrix(y_test, y_pred_1).ravel()\n",
    "cm_2 = confusion_matrix(y_test, y_pred_2).ravel()\n",
    "cm_3 = confusion_matrix(y_test, y_pred_3).ravel()\n",
    "cm_5 = confusion_matrix(y_test, y_pred_5).ravel()"
   ]
  },
  {
   "cell_type": "code",
   "execution_count": 11,
   "metadata": {},
   "outputs": [
    {
     "data": {
      "text/html": [
       "<div>\n",
       "<style scoped>\n",
       "    .dataframe tbody tr th:only-of-type {\n",
       "        vertical-align: middle;\n",
       "    }\n",
       "\n",
       "    .dataframe tbody tr th {\n",
       "        vertical-align: top;\n",
       "    }\n",
       "\n",
       "    .dataframe thead th {\n",
       "        text-align: right;\n",
       "    }\n",
       "</style>\n",
       "<table border=\"1\" class=\"dataframe\">\n",
       "  <thead>\n",
       "    <tr style=\"text-align: right;\">\n",
       "      <th></th>\n",
       "      <th>tn</th>\n",
       "      <th>fp</th>\n",
       "      <th>fn</th>\n",
       "      <th>tp</th>\n",
       "    </tr>\n",
       "    <tr>\n",
       "      <th>neighbors</th>\n",
       "      <th></th>\n",
       "      <th></th>\n",
       "      <th></th>\n",
       "      <th></th>\n",
       "    </tr>\n",
       "  </thead>\n",
       "  <tbody>\n",
       "    <tr>\n",
       "      <th>1</th>\n",
       "      <td>2618</td>\n",
       "      <td>0</td>\n",
       "      <td>0</td>\n",
       "      <td>11</td>\n",
       "    </tr>\n",
       "    <tr>\n",
       "      <th>2</th>\n",
       "      <td>2618</td>\n",
       "      <td>0</td>\n",
       "      <td>0</td>\n",
       "      <td>11</td>\n",
       "    </tr>\n",
       "    <tr>\n",
       "      <th>3</th>\n",
       "      <td>2618</td>\n",
       "      <td>0</td>\n",
       "      <td>0</td>\n",
       "      <td>11</td>\n",
       "    </tr>\n",
       "    <tr>\n",
       "      <th>5</th>\n",
       "      <td>2618</td>\n",
       "      <td>0</td>\n",
       "      <td>0</td>\n",
       "      <td>11</td>\n",
       "    </tr>\n",
       "  </tbody>\n",
       "</table>\n",
       "</div>"
      ],
      "text/plain": [
       "             tn  fp  fn  tp\n",
       "neighbors                  \n",
       "1          2618   0   0  11\n",
       "2          2618   0   0  11\n",
       "3          2618   0   0  11\n",
       "5          2618   0   0  11"
      ]
     },
     "execution_count": 11,
     "metadata": {},
     "output_type": "execute_result"
    }
   ],
   "source": [
    "# make a df with all the confusion matrices\n",
    "cm_df = pd.DataFrame([cm_1, cm_2, cm_3, cm_5], columns=['tn', 'fp', 'fn', 'tp'], index=[1, 2, 3, 5])\n",
    "# set index name to be the number of neighbors\n",
    "cm_df.index.rename('neighbors', inplace=True)\n",
    "cm_df.head()"
   ]
  },
  {
   "cell_type": "markdown",
   "metadata": {},
   "source": [
    "# Conclusion\n",
    "Here we can see that the model with only 1 neighbour was the one which outperformed the rest, as was announced by the GridSearch. Although they had the same accuracy, the model with 1 neighbour is less complex, and therefore, more desirable than the rest.\n",
    "One thing which is remarkable is that 80% of the malicious cases were in the <b>test set</b>, so the model made do with very few anomalies, and was able to predict them all correctly.\n"
   ]
  },
  {
   "cell_type": "markdown",
   "metadata": {},
   "source": [
    "<img src=\"https://www.researchgate.net/publication/333430988/figure/fig8/AS:960478901710860@1606007423711/Example-of-Euclidean-and-Manhattan-distances-between-two-points-A-and-B-The-Euclidean.png\" alt=\"manhattan vs euclidean\" width=\"275\"/>\n",
    "\n",
    "In addition, when adding the p=1 parameter, which is the Manhattan distance, more fitting for this use case, all models were able to detect all the anomalies, which is a great result. \n"
   ]
  },
  {
   "cell_type": "markdown",
   "metadata": {},
   "source": [
    "\n",
    "When comparing it to the Isolation Forest model, this is clearly a better model, as it was able to detect all the anomalies. However, it is worth noting that the Isolation Forest model is unsupervised, which gives it a clear disadvantage when compared to the KNN model, which is supervised."
   ]
  }
 ],
 "metadata": {
  "kernelspec": {
   "display_name": "Python 3",
   "language": "python",
   "name": "python3"
  },
  "language_info": {
   "codemirror_mode": {
    "name": "ipython",
    "version": 3
   },
   "file_extension": ".py",
   "mimetype": "text/x-python",
   "name": "python",
   "nbconvert_exporter": "python",
   "pygments_lexer": "ipython3",
   "version": "3.10.12"
  }
 },
 "nbformat": 4,
 "nbformat_minor": 2
}
