{
 "cells": [
  {
   "cell_type": "code",
   "execution_count": 48,
   "metadata": {},
   "outputs": [],
   "source": [
    "import pandas as pd\n",
    "import numpy as np\n",
    "import matplotlib.pyplot as plt\n",
    "from sklearn.model_selection import train_test_split"
   ]
  },
  {
   "cell_type": "code",
   "execution_count": 4,
   "metadata": {},
   "outputs": [],
   "source": [
    "# this dataset is heavily skewed towards benign traffic.\n",
    "df = pd.read_csv(\"data/preprocessed_CTU-IoT-Malware-Capture-21-1.csv\")"
   ]
  },
  {
   "cell_type": "code",
   "execution_count": 5,
   "metadata": {},
   "outputs": [
    {
     "data": {
      "text/html": [
       "<div>\n",
       "<style scoped>\n",
       "    .dataframe tbody tr th:only-of-type {\n",
       "        vertical-align: middle;\n",
       "    }\n",
       "\n",
       "    .dataframe tbody tr th {\n",
       "        vertical-align: top;\n",
       "    }\n",
       "\n",
       "    .dataframe thead th {\n",
       "        text-align: right;\n",
       "    }\n",
       "</style>\n",
       "<table border=\"1\" class=\"dataframe\">\n",
       "  <thead>\n",
       "    <tr style=\"text-align: right;\">\n",
       "      <th></th>\n",
       "      <th>id.resp_h</th>\n",
       "      <th>proto</th>\n",
       "      <th>service</th>\n",
       "      <th>duration</th>\n",
       "      <th>orig_bytes</th>\n",
       "      <th>resp_bytes</th>\n",
       "      <th>conn_state</th>\n",
       "      <th>missed_bytes</th>\n",
       "      <th>history</th>\n",
       "      <th>orig_pkts</th>\n",
       "      <th>orig_ip_bytes</th>\n",
       "      <th>resp_pkts</th>\n",
       "      <th>resp_ip_bytes</th>\n",
       "      <th>label</th>\n",
       "    </tr>\n",
       "  </thead>\n",
       "  <tbody>\n",
       "    <tr>\n",
       "      <th>0</th>\n",
       "      <td>8</td>\n",
       "      <td>2</td>\n",
       "      <td>1</td>\n",
       "      <td>-0.031471</td>\n",
       "      <td>-0.120580</td>\n",
       "      <td>-0.091638</td>\n",
       "      <td>2</td>\n",
       "      <td>-0.028072</td>\n",
       "      <td>1</td>\n",
       "      <td>-0.031437</td>\n",
       "      <td>-0.033291</td>\n",
       "      <td>-0.032746</td>\n",
       "      <td>-0.035204</td>\n",
       "      <td>0</td>\n",
       "    </tr>\n",
       "    <tr>\n",
       "      <th>1</th>\n",
       "      <td>8</td>\n",
       "      <td>2</td>\n",
       "      <td>1</td>\n",
       "      <td>-0.031469</td>\n",
       "      <td>0.083804</td>\n",
       "      <td>0.114779</td>\n",
       "      <td>5</td>\n",
       "      <td>-0.028072</td>\n",
       "      <td>2</td>\n",
       "      <td>-0.025729</td>\n",
       "      <td>-0.022584</td>\n",
       "      <td>-0.021844</td>\n",
       "      <td>-0.016371</td>\n",
       "      <td>0</td>\n",
       "    </tr>\n",
       "    <tr>\n",
       "      <th>2</th>\n",
       "      <td>8</td>\n",
       "      <td>2</td>\n",
       "      <td>1</td>\n",
       "      <td>-0.025755</td>\n",
       "      <td>0.056852</td>\n",
       "      <td>-0.089369</td>\n",
       "      <td>2</td>\n",
       "      <td>-0.028072</td>\n",
       "      <td>1</td>\n",
       "      <td>-0.025729</td>\n",
       "      <td>-0.024210</td>\n",
       "      <td>-0.032746</td>\n",
       "      <td>-0.035204</td>\n",
       "      <td>0</td>\n",
       "    </tr>\n",
       "    <tr>\n",
       "      <th>3</th>\n",
       "      <td>8</td>\n",
       "      <td>2</td>\n",
       "      <td>1</td>\n",
       "      <td>-0.031469</td>\n",
       "      <td>0.083804</td>\n",
       "      <td>0.114779</td>\n",
       "      <td>5</td>\n",
       "      <td>-0.028072</td>\n",
       "      <td>2</td>\n",
       "      <td>-0.025729</td>\n",
       "      <td>-0.022584</td>\n",
       "      <td>-0.021844</td>\n",
       "      <td>-0.016371</td>\n",
       "      <td>0</td>\n",
       "    </tr>\n",
       "    <tr>\n",
       "      <th>4</th>\n",
       "      <td>8</td>\n",
       "      <td>2</td>\n",
       "      <td>1</td>\n",
       "      <td>-0.025717</td>\n",
       "      <td>0.144445</td>\n",
       "      <td>0.232731</td>\n",
       "      <td>5</td>\n",
       "      <td>-0.028072</td>\n",
       "      <td>2</td>\n",
       "      <td>-0.020022</td>\n",
       "      <td>-0.015129</td>\n",
       "      <td>-0.021844</td>\n",
       "      <td>-0.009663</td>\n",
       "      <td>0</td>\n",
       "    </tr>\n",
       "  </tbody>\n",
       "</table>\n",
       "</div>"
      ],
      "text/plain": [
       "   id.resp_h  proto  service  duration  orig_bytes  resp_bytes  conn_state  \\\n",
       "0          8      2        1 -0.031471   -0.120580   -0.091638           2   \n",
       "1          8      2        1 -0.031469    0.083804    0.114779           5   \n",
       "2          8      2        1 -0.025755    0.056852   -0.089369           2   \n",
       "3          8      2        1 -0.031469    0.083804    0.114779           5   \n",
       "4          8      2        1 -0.025717    0.144445    0.232731           5   \n",
       "\n",
       "   missed_bytes  history  orig_pkts  orig_ip_bytes  resp_pkts  resp_ip_bytes  \\\n",
       "0     -0.028072        1  -0.031437      -0.033291  -0.032746      -0.035204   \n",
       "1     -0.028072        2  -0.025729      -0.022584  -0.021844      -0.016371   \n",
       "2     -0.028072        1  -0.025729      -0.024210  -0.032746      -0.035204   \n",
       "3     -0.028072        2  -0.025729      -0.022584  -0.021844      -0.016371   \n",
       "4     -0.028072        2  -0.020022      -0.015129  -0.021844      -0.009663   \n",
       "\n",
       "   label  \n",
       "0      0  \n",
       "1      0  \n",
       "2      0  \n",
       "3      0  \n",
       "4      0  "
      ]
     },
     "execution_count": 5,
     "metadata": {},
     "output_type": "execute_result"
    }
   ],
   "source": [
    "df.head()"
   ]
  },
  {
   "cell_type": "markdown",
   "metadata": {},
   "source": [
    "# Train Test Split"
   ]
  },
  {
   "cell_type": "code",
   "execution_count": 49,
   "metadata": {},
   "outputs": [],
   "source": [
    "# get a train test split which has most malware examples in the test set\n",
    "\n",
    "malware = df[df['label'] == 1]\n",
    "malware_test = malware.sample(frac=0.8, random_state=42)\n",
    "malware_train = malware.drop(malware_test.index)\n",
    "\n",
    "benign = df[df['label'] == 0]\n",
    "\n",
    "benign_test = benign.sample(frac=0.8, random_state=42)\n",
    "benign_train = benign.drop(benign_test.index)\n",
    "\n",
    "train = pd.concat([malware_train, benign_train])\n",
    "test = pd.concat([malware_test, benign_test])\n",
    "\n",
    "X_train = train.drop(['label'], axis=1)\n",
    "y_train = train['label']\n",
    "\n",
    "X_test = test.drop(['label'], axis=1)\n",
    "y_test = test['label']\n",
    "\n",
    "# Shuffle the data\n",
    "from sklearn.utils import shuffle\n",
    "X_train, y_train = shuffle(X_train, y_train, random_state=42)\n"
   ]
  },
  {
   "cell_type": "markdown",
   "metadata": {},
   "source": [
    "## Autoencoders for Anomaly Detection\n",
    "\n",
    "Autoencoders are a type of neural network used for unsupervised learning and dimensionality reduction. They can also be highly effective for anomaly detection, especially when you have labeled data. Autoencoders work by learning to encode and decode data, which makes them well-suited for identifying anomalies based on the reconstruction error. Here's an expanded explanation of autoencoders for anomaly detection:\n",
    "\n",
    "### Autoencoder Structure\n",
    "An autoencoder consists of an encoder and a decoder, typically implemented as neural networks. The architecture can be divided into three main parts:\n",
    "\n",
    "1. **Encoder**: The encoder network takes the input data and maps it to a lower-dimensional representation, often called the \"encoding\" or \"latent space.\" The encoder learns to capture the most important features of the data in this lower-dimensional space.\n",
    "\n",
    "2. **Latent Space**: The latent space is a compact representation of the input data, typically of much lower dimensionality. It contains essential features of the data.\n",
    "\n",
    "3. **Decoder**: The decoder network takes the encoding from the latent space and reconstructs the input data as closely as possible. The goal is to minimize the reconstruction error, making the reconstructed data as similar to the input data as possible.\n",
    "\n",
    "### Training an Autoencoder for Anomaly Detection\n",
    "To use autoencoders for anomaly detection, you typically follow these steps:\n",
    "\n",
    "1. **Training**: Train the autoencoder using only the normal data from your labeled dataset. The encoder learns to capture the characteristics of normal data while ignoring anomalies.\n",
    "\n",
    "2. **Reconstruction Error**: Calculate the reconstruction error for each data point. This is the difference between the input data and the reconstructed data. A high reconstruction error indicates that the input data does not match the learned pattern of normal data.\n",
    "\n",
    "3. **Threshold**: Set a threshold on the reconstruction error. Data points with reconstruction errors above this threshold are considered anomalies.\n",
    "\n",
    "### Advantages of Autoencoders for Anomaly Detection\n",
    "- **Unsupervised Learning**: Autoencoders do not require anomaly labels during training. They learn to represent normal data by capturing its essential features without any prior knowledge of anomalies.\n",
    "\n",
    "- **Non-Linearity**: Autoencoders can capture complex, non-linear patterns in the data, making them suitable for a wide range of anomaly detection tasks.\n",
    "\n",
    "- **Dimensionality Reduction**: Autoencoders inherently reduce the dimensionality of the data, which can help in capturing the most informative features and discarding noise.\n",
    "\n",
    "- **Customizability**: Autoencoders can be customized in terms of architecture, activation functions, and loss functions to better match the data distribution and anomaly patterns.\n",
    "\n",
    "- **Reconstruction Error**: The reconstruction error serves as a natural anomaly score. High reconstruction errors indicate that a data point doesn't fit the learned representation of normal data.\n",
    "\n"
   ]
  },
  {
   "cell_type": "code",
   "execution_count": 7,
   "metadata": {},
   "outputs": [],
   "source": [
    "# Normalize the data\n",
    "from sklearn.preprocessing import MinMaxScaler\n",
    "scaler = MinMaxScaler()\n",
    "X_train = scaler.fit_transform(X_train)\n",
    "X_test = scaler.transform(X_test)\n",
    "\n"
   ]
  },
  {
   "cell_type": "code",
   "execution_count": 50,
   "metadata": {},
   "outputs": [],
   "source": [
    "# build the model\n",
    "from keras.models import Sequential\n",
    "from keras.layers import Input, Dense\n",
    "\n",
    "autoencoder = Sequential()\n",
    "autoencoder.add(Input(shape=(X_train.shape[1],)))\n",
    "autoencoder.add(Dense(64, activation='relu'))\n",
    "autoencoder.add(Dense(32, activation='relu'))\n",
    "autoencoder.add(Dense(16, activation='relu'))\n",
    "autoencoder.add(Dense(32, activation='relu'))   \n",
    "autoencoder.add(Dense(64, activation='relu'))\n",
    "autoencoder.add(Dense(X_train.shape[1], activation='sigmoid'))\n",
    "\n",
    "autoencoder.compile(optimizer='adam', loss='mse')\n"
   ]
  },
  {
   "cell_type": "code",
   "execution_count": 51,
   "metadata": {},
   "outputs": [
    {
     "name": "stdout",
     "output_type": "stream",
     "text": [
      "Epoch 1/15\n"
     ]
    },
    {
     "name": "stdout",
     "output_type": "stream",
     "text": [
      "21/21 [==============================] - 1s 10ms/step - loss: 37.2317 - val_loss: 36.5015\n",
      "Epoch 2/15\n",
      "21/21 [==============================] - 0s 5ms/step - loss: 36.3487 - val_loss: 36.0944\n",
      "Epoch 3/15\n",
      "21/21 [==============================] - 0s 5ms/step - loss: 36.1106 - val_loss: 35.9326\n",
      "Epoch 4/15\n",
      "21/21 [==============================] - 0s 5ms/step - loss: 36.0173 - val_loss: 35.9073\n",
      "Epoch 5/15\n",
      "21/21 [==============================] - 0s 5ms/step - loss: 35.9970 - val_loss: 35.9008\n",
      "Epoch 6/15\n",
      "21/21 [==============================] - 0s 5ms/step - loss: 35.9849 - val_loss: 35.8959\n",
      "Epoch 7/15\n",
      "21/21 [==============================] - 0s 5ms/step - loss: 35.9726 - val_loss: 35.8893\n",
      "Epoch 8/15\n",
      "21/21 [==============================] - 0s 5ms/step - loss: 35.9595 - val_loss: 35.8846\n",
      "Epoch 9/15\n",
      "21/21 [==============================] - 0s 5ms/step - loss: 35.9541 - val_loss: 35.8821\n",
      "Epoch 10/15\n",
      "21/21 [==============================] - 0s 5ms/step - loss: 35.9518 - val_loss: 35.8806\n",
      "Epoch 11/15\n",
      "21/21 [==============================] - 0s 5ms/step - loss: 35.9504 - val_loss: 35.8794\n",
      "Epoch 12/15\n",
      "21/21 [==============================] - 0s 5ms/step - loss: 35.9493 - val_loss: 35.8786\n",
      "Epoch 13/15\n",
      "21/21 [==============================] - 0s 5ms/step - loss: 35.9487 - val_loss: 35.8780\n",
      "Epoch 14/15\n",
      "21/21 [==============================] - 0s 5ms/step - loss: 35.9477 - val_loss: 35.8768\n",
      "Epoch 15/15\n",
      "21/21 [==============================] - 0s 5ms/step - loss: 35.9420 - val_loss: 35.8747\n"
     ]
    }
   ],
   "source": [
    "H = autoencoder.fit(X_train, X_train,\n",
    "                epochs=15,\n",
    "                batch_size=32,\n",
    "                shuffle=True,\n",
    "                validation_data=(X_test, X_test))\n"
   ]
  },
  {
   "cell_type": "code",
   "execution_count": 52,
   "metadata": {},
   "outputs": [
    {
     "data": {
      "image/png": "[encoded data removed]",
      "text/plain": [
       "<Figure size 640x480 with 1 Axes>"
      ]
     },
     "metadata": {},
     "output_type": "display_data"
    }
   ],
   "source": [
    "# Show model loss\n",
    "plt.plot(H.history['loss'])\n",
    "plt.plot(H.history['val_loss'])\n",
    "plt.title('Model loss')\n",
    "plt.ylabel('Loss')\n",
    "plt.xlabel('Epoch')\n",
    "plt.legend(['Train', 'Test'])\n",
    "plt.show()"
   ]
  },
  {
   "cell_type": "code",
   "execution_count": 53,
   "metadata": {},
   "outputs": [
    {
     "name": "stdout",
     "output_type": "stream",
     "text": [
      "83/83 [==============================] - 0s 782us/step\n"
     ]
    }
   ],
   "source": [
    "# predictions\n",
    "predictions = autoencoder.predict(X_test)\n",
    "mse = np.mean(np.power(X_test - predictions, 2), axis=1)\n",
    "error_df = pd.DataFrame({'reconstruction_error': mse,\n",
    "                        'true_class': y_test})"
   ]
  },
  {
   "cell_type": "code",
   "execution_count": 54,
   "metadata": {},
   "outputs": [
    {
     "data": {
      "text/html": [
       "<div>\n",
       "<style scoped>\n",
       "    .dataframe tbody tr th:only-of-type {\n",
       "        vertical-align: middle;\n",
       "    }\n",
       "\n",
       "    .dataframe tbody tr th {\n",
       "        vertical-align: top;\n",
       "    }\n",
       "\n",
       "    .dataframe thead th {\n",
       "        text-align: right;\n",
       "    }\n",
       "</style>\n",
       "<table border=\"1\" class=\"dataframe\">\n",
       "  <thead>\n",
       "    <tr style=\"text-align: right;\">\n",
       "      <th></th>\n",
       "      <th>reconstruction_error</th>\n",
       "      <th>true_class</th>\n",
       "    </tr>\n",
       "  </thead>\n",
       "  <tbody>\n",
       "    <tr>\n",
       "      <th>2052</th>\n",
       "      <td>56.463967</td>\n",
       "      <td>1</td>\n",
       "    </tr>\n",
       "    <tr>\n",
       "      <th>2055</th>\n",
       "      <td>56.463762</td>\n",
       "      <td>1</td>\n",
       "    </tr>\n",
       "    <tr>\n",
       "      <th>20</th>\n",
       "      <td>56.463762</td>\n",
       "      <td>1</td>\n",
       "    </tr>\n",
       "    <tr>\n",
       "      <th>3146</th>\n",
       "      <td>802.443299</td>\n",
       "      <td>1</td>\n",
       "    </tr>\n",
       "    <tr>\n",
       "      <th>2046</th>\n",
       "      <td>56.463762</td>\n",
       "      <td>1</td>\n",
       "    </tr>\n",
       "  </tbody>\n",
       "</table>\n",
       "</div>"
      ],
      "text/plain": [
       "      reconstruction_error  true_class\n",
       "2052             56.463967           1\n",
       "2055             56.463762           1\n",
       "20               56.463762           1\n",
       "3146            802.443299           1\n",
       "2046             56.463762           1"
      ]
     },
     "execution_count": 54,
     "metadata": {},
     "output_type": "execute_result"
    }
   ],
   "source": [
    "error_df.head()"
   ]
  },
  {
   "cell_type": "code",
   "execution_count": 55,
   "metadata": {},
   "outputs": [
    {
     "data": {
      "image/png": "[encoded data removed]",
      "text/plain": [
       "<Figure size 800x300 with 1 Axes>"
      ]
     },
     "metadata": {},
     "output_type": "display_data"
    }
   ],
   "source": [
    "# show the distribution of the reconstruction error\n",
    "plt.figure(figsize=(8, 3))\n",
    "plt.hist(error_df.reconstruction_error.values, bins=100)\n",
    "plt.xlabel('Reconstruction error')\n",
    "plt.ylabel('Count')\n",
    "plt.show()"
   ]
  },
  {
   "cell_type": "markdown",
   "metadata": {},
   "source": [
    "As we can see, the dataset reconstruction error is heavily skewed towards low reconstruction errors, indicating that most of the data points are normal. We can use this to set a threshold for anomaly detection."
   ]
  },
  {
   "cell_type": "code",
   "execution_count": 57,
   "metadata": {},
   "outputs": [
    {
     "name": "stdout",
     "output_type": "stream",
     "text": [
      "F1 score:  0.008333333333333333\n",
      "True positives:  11\n",
      "True negatives:  0\n",
      "False positives:  2618\n",
      "False negatives:  0\n"
     ]
    }
   ],
   "source": [
    "# Map the predictions to the labels\n",
    "threshold = 0.1\n",
    "error_df['pred_class'] = [1 if e > threshold else 0 for e in error_df.reconstruction_error.values]\n",
    "\n",
    "# get tp, tn, fp, fn\n",
    "tp = error_df[(error_df['true_class'] == 1) & (error_df['pred_class'] == 1)].shape[0]\n",
    "tn = error_df[(error_df['true_class'] == 0) & (error_df['pred_class'] == 0)].shape[0]\n",
    "fp = error_df[(error_df['true_class'] == 0) & (error_df['pred_class'] == 1)].shape[0]\n",
    "fn = error_df[(error_df['true_class'] == 1) & (error_df['pred_class'] == 0)].shape[0]\n",
    "\n",
    "# get f1 score\n",
    "from sklearn.metrics import f1_score\n",
    "print(\"F1 score: \", f1_score(y_test, error_df['pred_class']))\n",
    "print(\"True positives: \", tp)\n",
    "print(\"True negatives: \", tn)\n",
    "print(\"False positives: \", fp)\n",
    "print(\"False negatives: \", fn)"
   ]
  },
  {
   "cell_type": "markdown",
   "metadata": {},
   "source": [
    "Now, let's see how the model does when trained on the dataset which is more skewed towards anomalies."
   ]
  },
  {
   "cell_type": "code",
   "execution_count": 58,
   "metadata": {},
   "outputs": [],
   "source": [
    "df_big = pd.read_csv(\"data/preprocessed_CTU-IoT-Malware-Capture-48-1.csv\")\n",
    "\n",
    "X_train, X_test, y_train, y_test = train_test_split(df_big.drop(['label'], axis=1), df_big['label'], test_size=0.2, random_state=42)"
   ]
  },
  {
   "cell_type": "code",
   "execution_count": 60,
   "metadata": {},
   "outputs": [
    {
     "name": "stdout",
     "output_type": "stream",
     "text": [
      "Epoch 1/15\n",
      "84859/84859 [==============================] - 123s 1ms/step - loss: 6.6519 - val_loss: 7.1531\n",
      "Epoch 2/15\n",
      "84859/84859 [==============================] - 122s 1ms/step - loss: 6.6505 - val_loss: 7.1531\n",
      "Epoch 3/15\n",
      "84859/84859 [==============================] - 122s 1ms/step - loss: 6.6508 - val_loss: 7.1603\n",
      "Epoch 4/15\n",
      "84859/84859 [==============================] - 122s 1ms/step - loss: 6.6579 - val_loss: 7.1603\n",
      "Epoch 5/15\n",
      "84859/84859 [==============================] - 122s 1ms/step - loss: 6.6579 - val_loss: 7.1603\n",
      "Epoch 6/15\n",
      "84859/84859 [==============================] - 121s 1ms/step - loss: 6.6579 - val_loss: 7.1603\n",
      "Epoch 7/15\n",
      "84859/84859 [==============================] - 123s 1ms/step - loss: 6.6579 - val_loss: 7.1603\n",
      "Epoch 8/15\n",
      "84859/84859 [==============================] - 122s 1ms/step - loss: 6.6579 - val_loss: 7.1603\n",
      "Epoch 9/15\n",
      "17702/84859 [=====>........................] - ETA: 1:24 - loss: 6.6957"
     ]
    }
   ],
   "source": [
    "autoencoder2 = Sequential()\n",
    "autoencoder2.add(Input(shape=(X_train.shape[1],)))\n",
    "autoencoder2.add(Dense(64, activation='relu'))\n",
    "autoencoder2.add(Dense(32, activation='relu'))\n",
    "autoencoder2.add(Dense(16, activation='relu'))\n",
    "autoencoder2.add(Dense(32, activation='relu'))\n",
    "autoencoder2.add(Dense(64, activation='relu'))\n",
    "autoencoder2.add(Dense(X_train.shape[1], activation='sigmoid'))\n",
    "\n",
    "autoencoder2.compile(optimizer='adam', loss='mse')\n",
    "\n",
    "\n",
    "H2 = autoencoder2.fit(X_train, X_train,\n",
    "                epochs=15,\n",
    "                batch_size=32,\n",
    "                shuffle=True,\n",
    "                validation_data=(X_test, X_test))\n"
   ]
  },
  {
   "cell_type": "code",
   "execution_count": null,
   "metadata": {},
   "outputs": [],
   "source": [
    "# Show model loss\n",
    "plt.plot(H2.history['loss'])\n",
    "plt.show()"
   ]
  }
 ],
 "metadata": {
  "kernelspec": {
   "display_name": "Python 3",
   "language": "python",
   "name": "python3"
  },
  "language_info": {
   "codemirror_mode": {
    "name": "ipython",
    "version": 3
   },
   "file_extension": ".py",
   "mimetype": "text/x-python",
   "name": "python",
   "nbconvert_exporter": "python",
   "pygments_lexer": "ipython3",
   "version": "3.10.12"
  }
 },
 "nbformat": 4,
 "nbformat_minor": 2
}
